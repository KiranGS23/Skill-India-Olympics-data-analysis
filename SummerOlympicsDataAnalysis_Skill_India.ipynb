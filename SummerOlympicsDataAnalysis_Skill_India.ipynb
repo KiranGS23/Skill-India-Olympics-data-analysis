{
  "nbformat": 4,
  "nbformat_minor": 0,
  "metadata": {
    "colab": {
      "name": "SummerOlympicsDataAnalysis Skill India.ipynb",
      "provenance": [],
      "collapsed_sections": []
    },
    "kernelspec": {
      "display_name": "Python 3",
      "name": "python3"
    },
    "language_info": {
      "name": "python"
    }
  },
  "cells": [
    {
      "cell_type": "markdown",
      "metadata": {
        "id": "5h2JYSlaPyeV"
      },
      "source": [
        "#Summer Olympics Data Analysis Assignment\n"
      ]
    },
    {
      "cell_type": "markdown",
      "metadata": {
        "id": "L4sxI1gUP3K7"
      },
      "source": [
        "### 1. In how many cities Summer Olympics is held so far?"
      ]
    },
    {
      "cell_type": "code",
      "metadata": {
        "colab": {
          "base_uri": "https://localhost:8080/"
        },
        "id": "J__qE98bRtqM",
        "outputId": "cb9d8421-4e3a-453d-929d-15e47597effb"
      },
      "source": [
        "import pandas as pd\n",
        "import numpy as np\n",
        "import matplotlib.pyplot as plt\n",
        "df = pd.read_csv(\"summer.csv\")\n",
        "no_of_cities = 0\n",
        "print(\"\\nThe cities in which Summer Olympics has been held so far :\")\n",
        "for city in df['City'].unique():\n",
        " print(city)\n",
        " no_of_cities += 1\n",
        "print(\"\\nThe number of cities in which Summer Olympics has been held so far :\",no_of_cities)"
      ],
      "execution_count": 2,
      "outputs": [
        {
          "output_type": "stream",
          "name": "stdout",
          "text": [
            "\n",
            "The cities in which Summer Olympics has been held so far :\n",
            "Athens\n",
            "Paris\n",
            "St Louis\n",
            "London\n",
            "Stockholm\n",
            "Antwerp\n",
            "Amsterdam\n",
            "Los Angeles\n",
            "Berlin\n",
            "Helsinki\n",
            "Melbourne / Stockholm\n",
            "Rome\n",
            "Tokyo\n",
            "Mexico\n",
            "Munich\n",
            "Montreal\n",
            "Moscow\n",
            "Seoul\n",
            "Barcelona\n",
            "Atlanta\n",
            "Sydney\n",
            "Beijing\n",
            "\n",
            "The number of cities in which Summer Olympics has been held so far : 22\n"
          ]
        }
      ]
    },
    {
      "cell_type": "markdown",
      "metadata": {
        "id": "q0sdehnoQDWN"
      },
      "source": [
        "### 2. Which sport is having most number of Gold Medals so far? (Top 5)"
      ]
    },
    {
      "cell_type": "code",
      "metadata": {
        "colab": {
          "base_uri": "https://localhost:8080/",
          "height": 516
        },
        "id": "gr9ODyiVCPow",
        "outputId": "d6427724-793c-45d9-dcae-3890dbfab469"
      },
      "source": [
        "data = df.values\n",
        "lst = []\n",
        "for sport in df['Sport'].unique(): \n",
        " g_medals = 0\n",
        " for i in range(len(data)):\n",
        "    if (data[i][2] == sport) and (data[i][8] == \"Gold\") :\n",
        "      g_medals += 1\n",
        " lst.append([g_medals,sport])\n",
        " lst.sort(reverse = True)\n",
        "print(\"\\n The Top 5 Sports having the most number of gold medals so far :\")\n",
        "for i in range(0,5):\n",
        " print(lst[i])\n",
        " \n",
        "pd.DataFrame(lst,columns = [ g_medals,'Sport']).sort_values(by= g_medals, ascending=False).head().plot(x = 'Sport', y = g_medals, kind = 'bar', figsize = (10,5))"
      ],
      "execution_count": 3,
      "outputs": [
        {
          "output_type": "stream",
          "name": "stdout",
          "text": [
            "\n",
            " The Top 5 Sports having the most number of gold medals so far :\n",
            "[1421, 'Aquatics']\n",
            "[1215, 'Athletics']\n",
            "[890, 'Rowing']\n",
            "[820, 'Gymnastics']\n",
            "[552, 'Fencing']\n"
          ]
        },
        {
          "output_type": "execute_result",
          "data": {
            "text/plain": [
              "<matplotlib.axes._subplots.AxesSubplot at 0x7fe2cd9aed10>"
            ]
          },
          "metadata": {},
          "execution_count": 3
        },
        {
          "output_type": "display_data",
          "data": {
            "image/png": "[encoded data removed]",
            "text/plain": [
              "<Figure size 720x360 with 1 Axes>"
            ]
          },
          "metadata": {
            "needs_background": "light"
          }
        }
      ]
    },
    {
      "cell_type": "markdown",
      "metadata": {
        "id": "f2MvVazKQIlG"
      },
      "source": [
        "### 3. Which sport is having most number of medals so far? (Top 5)"
      ]
    },
    {
      "cell_type": "code",
      "metadata": {
        "colab": {
          "base_uri": "https://localhost:8080/",
          "height": 516
        },
        "id": "KSRZvijoCTrg",
        "outputId": "66af0fef-760a-4284-d78a-a88a96d544b4"
      },
      "source": [
        "data2 = df.values\n",
        "mlst = []\n",
        "for sport in df['Sport'].unique(): \n",
        " medals = 0\n",
        " for i in range(len(data2)):\n",
        "    if (data2[i][2] == sport) and (len(data2[i][8]) != 0) :\n",
        "      medals += 1\n",
        " mlst.append([medals,sport])\n",
        " mlst.sort(reverse = True)\n",
        "print(\"\\nThe top five sports having the most number of medals so far in the Summer Olympics : \")\n",
        "for i in range(0,5):\n",
        " print(mlst[i])\n",
        " \n",
        "pd.DataFrame(mlst,columns = [medals, 'Sport']).sort_values(by= medals, ascending=False).head().plot(x = 'Sport', y = medals, kind = 'bar', figsize = (10,5))"
      ],
      "execution_count": 4,
      "outputs": [
        {
          "output_type": "stream",
          "name": "stdout",
          "text": [
            "\n",
            "The top five sports having the most number of medals so far in the Summer Olympics : \n",
            "[4170, 'Aquatics']\n",
            "[3638, 'Athletics']\n",
            "[2667, 'Rowing']\n",
            "[2307, 'Gymnastics']\n",
            "[1613, 'Fencing']\n"
          ]
        },
        {
          "output_type": "execute_result",
          "data": {
            "text/plain": [
              "<matplotlib.axes._subplots.AxesSubplot at 0x7fe2c7a29e10>"
            ]
          },
          "metadata": {},
          "execution_count": 4
        },
        {
          "output_type": "display_data",
          "data": {
            "image/png": "[encoded data removed]",
            "text/plain": [
              "<Figure size 720x360 with 1 Axes>"
            ]
          },
          "metadata": {
            "needs_background": "light"
          }
        }
      ]
    },
    {
      "cell_type": "markdown",
      "metadata": {
        "id": "ZAgVbpVWQNPw"
      },
      "source": [
        "### 4. Which player has won most number of medals? (Top 5)"
      ]
    },
    {
      "cell_type": "code",
      "metadata": {
        "colab": {
          "base_uri": "https://localhost:8080/",
          "height": 544
        },
        "id": "A6C_OG59CYvY",
        "outputId": "6ce77e8d-7bed-4e6c-89a7-a7216803be3a"
      },
      "source": [
        "data3 = df.values\n",
        "plmlst = []\n",
        "for player in df['Athlete'].unique(): \n",
        " medals = 0\n",
        " for i in range(len(data3)):\n",
        "    if (data3[i][4] == player) and (len(data3[i][8]) != 0) :\n",
        "      medals += 1\n",
        " plmlst.append([medals,player])\n",
        " plmlst.sort(reverse = True)\n",
        "print(\"The Top five players who have won the most number of medals :\")\n",
        "for i in range(0,5):\n",
        " print(plmlst[i])\n",
        " \n",
        "pd.DataFrame(plmlst,columns = [medals, 'Athlete']).sort_values(by= medals, ascending=False).head().plot(x = 'Athlete', y = medals, kind = 'bar', figsize = (10,5))"
      ],
      "execution_count": 5,
      "outputs": [
        {
          "output_type": "stream",
          "name": "stdout",
          "text": [
            "The Top five players who have won the most number of medals :\n",
            "[22, 'PHELPS, Michael']\n",
            "[18, 'LATYNINA, Larisa']\n",
            "[15, 'ANDRIANOV, Nikolay']\n",
            "[13, 'SHAKHLIN, Boris']\n",
            "[13, 'ONO, Takashi']\n"
          ]
        },
        {
          "output_type": "execute_result",
          "data": {
            "text/plain": [
              "<matplotlib.axes._subplots.AxesSubplot at 0x7fe2c7431310>"
            ]
          },
          "metadata": {},
          "execution_count": 5
        },
        {
          "output_type": "display_data",
          "data": {
            "image/png": "[encoded data removed]",
            "text/plain": [
              "<Figure size 720x360 with 1 Axes>"
            ]
          },
          "metadata": {
            "needs_background": "light"
          }
        }
      ]
    },
    {
      "cell_type": "markdown",
      "metadata": {
        "id": "rSNuy2nLQREs"
      },
      "source": [
        "### 5. Which player has won most number Gold Medals of medals? (Top 5)"
      ]
    },
    {
      "cell_type": "code",
      "metadata": {
        "colab": {
          "base_uri": "https://localhost:8080/",
          "height": 542
        },
        "id": "UT7E4gjCCeFI",
        "outputId": "17fee44f-b575-41b5-9029-242e4c84f1e2"
      },
      "source": [
        "data4 = df.values\n",
        "gplmlst = []\n",
        "for player in df['Athlete'].unique(): \n",
        " medals = 0\n",
        " for i in range(len(data4)):\n",
        "    if (data4[i][4] == player) and (data4[i][8] == \"Gold\") :\n",
        "      medals += 1\n",
        " gplmlst.append([medals,player])\n",
        " gplmlst.sort(reverse = True)\n",
        "print(\"\\nThe Top five players who have won the most number of Gold medals : \")\n",
        "for i in range(0,5):\n",
        " print(gplmlst[i])\n",
        " \n",
        "pd.DataFrame(gplmlst,columns = [medals, 'Athlete']).sort_values(by= medals, ascending=False).head().plot(x = 'Athlete', y = medals, kind = 'bar', figsize = (10,5))"
      ],
      "execution_count": 6,
      "outputs": [
        {
          "output_type": "stream",
          "name": "stdout",
          "text": [
            "\n",
            "The Top five players who have won the most number of Gold medals : \n",
            "[18, 'PHELPS, Michael']\n",
            "[9, 'SPITZ, Mark']\n",
            "[9, 'NURMI, Paavo']\n",
            "[9, 'LEWIS, Carl']\n",
            "[9, 'LATYNINA, Larisa']\n"
          ]
        },
        {
          "output_type": "execute_result",
          "data": {
            "text/plain": [
              "<matplotlib.axes._subplots.AxesSubplot at 0x7fe2c742ae90>"
            ]
          },
          "metadata": {},
          "execution_count": 6
        },
        {
          "output_type": "display_data",
          "data": {
            "image/png": "[encoded data removed]",
            "text/plain": [
              "<Figure size 720x360 with 1 Axes>"
            ]
          },
          "metadata": {
            "needs_background": "light"
          }
        }
      ]
    },
    {
      "cell_type": "markdown",
      "metadata": {
        "id": "nysl5wISQU-q"
      },
      "source": [
        "### 6. In which year India won first Gold Medal in Summer Olympics?"
      ]
    },
    {
      "cell_type": "code",
      "metadata": {
        "colab": {
          "base_uri": "https://localhost:8080/"
        },
        "id": "l1II2XChHNF9",
        "outputId": "77096816-9a55-424a-d130-2a393aca02c7"
      },
      "source": [
        "data5 = df.values\n",
        "datag5 = []\n",
        "for i in range(len(data5)):\n",
        "  for year in df['Year'].unique():\n",
        "   if (data5[i][0] == year) and ((data5[i][5] == \"IND\") and (data5[i][8] == \"Gold\")) :\n",
        "     datag5.append(year)\n",
        "print(\"\\nIndia won the first Gold Medal in Summer Olympics in \",datag5[0])\n",
        "print(\"\\nFirst Gold Medal for India : \",datag5[0])"
      ],
      "execution_count": 35,
      "outputs": [
        {
          "output_type": "stream",
          "name": "stdout",
          "text": [
            "\n",
            "India won the first Gold Medal in Summer Olympics in  1928\n",
            "\n",
            "First Gold Medal for India :  1928\n"
          ]
        }
      ]
    },
    {
      "cell_type": "markdown",
      "metadata": {
        "id": "bzKbe_f0QYUm"
      },
      "source": [
        "### 7. Which event is most popular in terms on number of players? (Top 5)"
      ]
    },
    {
      "cell_type": "code",
      "metadata": {
        "colab": {
          "base_uri": "https://localhost:8080/",
          "height": 548
        },
        "id": "vmxc5SQqLgMq",
        "outputId": "4452b4f3-fd24-48f3-94ff-10bf5d9be248"
      },
      "source": [
        "data6 = df.values\n",
        "poplst = []\n",
        "for event in df['Event'].unique(): \n",
        " total_players = 0\n",
        " for i in range(len(data6)):\n",
        "    if (data6[i][7] == event) and (len(data6[i][4]) != 0) :\n",
        "      total_players += 1\n",
        " poplst.append([total_players,event])\n",
        " poplst.sort(reverse = True)\n",
        "print(\"\\nThe top five most popular events in terms of number of players :\")\n",
        "for i in range(0,5):\n",
        " print(poplst[i])\n",
        " \n",
        "pd.DataFrame(poplst,columns = [total_players, 'Event']).sort_values(by= total_players, ascending=False).head().plot(x = 'Event', y = total_players, kind = 'bar', figsize = (10,5))"
      ],
      "execution_count": 25,
      "outputs": [
        {
          "output_type": "stream",
          "name": "stdout",
          "text": [
            "\n",
            "The top five most popular events in terms of number of players :\n",
            "[1497, 'Football']\n",
            "[1422, 'Hockey']\n",
            "[1147, 'Team Competition']\n",
            "[1012, 'Basketball']\n",
            "[973, 'Handball']\n"
          ]
        },
        {
          "output_type": "execute_result",
          "data": {
            "text/plain": [
              "<matplotlib.axes._subplots.AxesSubplot at 0x7fe2c2a2abd0>"
            ]
          },
          "metadata": {},
          "execution_count": 25
        },
        {
          "output_type": "display_data",
          "data": {
            "image/png": "[encoded data removed]",
            "text/plain": [
              "<Figure size 720x360 with 1 Axes>"
            ]
          },
          "metadata": {
            "needs_background": "light"
          }
        }
      ]
    },
    {
      "cell_type": "markdown",
      "metadata": {
        "id": "ydtAGf5eQcEA"
      },
      "source": [
        "### 8. Which sport is having most female Gold Medalists? (Top 5)"
      ]
    },
    {
      "cell_type": "code",
      "metadata": {
        "colab": {
          "base_uri": "https://localhost:8080/",
          "height": 549
        },
        "id": "JIRTHWdTcr0W",
        "outputId": "37129898-7dd3-4bb7-a6e3-9f9601b67504"
      },
      "source": [
        "data7 = df.values\n",
        "totalfg_medals = 0\n",
        "gflst = []\n",
        "for sport in df['Sport'].unique(): \n",
        " fg_medals = 0\n",
        " for i in range(len(data7)):\n",
        "    if (data7[i][2] == sport) and ((data7[i][6] == \"Women\") and (data7[i][8] == \"Gold\"))  :\n",
        "      fg_medals += 1\n",
        "      totalfg_medals += 1\n",
        " gflst.append([fg_medals,sport])\n",
        " gflst.sort(reverse = True)\n",
        "print(\"\\nTop five sports having the most number of female gold medalists :\")\n",
        "for i in range(0,5):\n",
        " print(gflst[i])\n",
        "print(\"\\nTotal number of gold medals won by women in summer olympics :\",totalfg_medals)\n",
        " \n",
        "pd.DataFrame(gflst,columns = [fg_medals, 'Sport']).sort_values(by= fg_medals, ascending=False).head().plot(x = 'Sport', y = fg_medals, kind = 'bar', figsize = (10,5))"
      ],
      "execution_count": 29,
      "outputs": [
        {
          "output_type": "stream",
          "name": "stdout",
          "text": [
            "\n",
            "Top five sports having the most number of female gold medalists :\n",
            "[589, 'Aquatics']\n",
            "[389, 'Athletics']\n",
            "[268, 'Gymnastics']\n",
            "[217, 'Rowing']\n",
            "[166, 'Volleyball']\n",
            "\n",
            "Total number of gold medals won by women in summer olympics : 2788\n"
          ]
        },
        {
          "output_type": "execute_result",
          "data": {
            "text/plain": [
              "<matplotlib.axes._subplots.AxesSubplot at 0x7fe2c25dae10>"
            ]
          },
          "metadata": {},
          "execution_count": 29
        },
        {
          "output_type": "display_data",
          "data": {
            "image/png": "[encoded data removed]",
            "text/plain": [
              "<Figure size 720x360 with 1 Axes>"
            ]
          },
          "metadata": {
            "needs_background": "light"
          }
        }
      ]
    },
    {
      "cell_type": "code",
      "metadata": {
        "id": "KKWOKKWKKHFm"
      },
      "source": [
        ""
      ],
      "execution_count": null,
      "outputs": []
    }
  ]
}